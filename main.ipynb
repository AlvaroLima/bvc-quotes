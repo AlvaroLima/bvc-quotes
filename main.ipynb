{
 "cells": [
  {
   "cell_type": "markdown",
   "metadata": {},
   "source": [
    "# Webscraping bvc.cv with beautifulsoup4 "
   ]
  },
  {
   "cell_type": "markdown",
   "metadata": {},
   "source": [
    "### Import libraries and make request to bvc historico de cotações page"
   ]
  },
  {
   "cell_type": "code",
   "execution_count": 1,
   "metadata": {},
   "outputs": [],
   "source": [
    "from bs4 import BeautifulSoup\n",
    "import requests\n",
    "import pandas as pd\n",
    "import plotly.express as px\n",
    "from pathlib import Path\n",
    "\n",
    "html_text = requests.get('https://bvc.cv/pagina/historico-cotacoes-bvc-62').text\n",
    "soup = BeautifulSoup(html_text, 'lxml')\n",
    "epfds = soup.find('tbody', class_= 'text-right').find_all('td')\n",
    "\n",
    "list = []\n",
    "\n",
    "for index, epfd in enumerate(epfds):\n",
    "    list.append(epfd.text)\n",
    "\n",
    "#Convert list to list of lists (entidade, preco_fecho, dates)\n",
    "list_epfd = [list[i:i+3] for i in range(0, len(list), 3)]\n",
    "#Convert list of list to dataframe\n",
    "df_hist_cot = pd.DataFrame(list_epfd, columns=['entidade', 'preco_fecho', 'dates'])\n",
    "\n"
   ]
  },
  {
   "cell_type": "code",
   "execution_count": 2,
   "metadata": {},
   "outputs": [
    {
     "name": "stdout",
     "output_type": "stream",
     "text": [
      "  entidade preco_fecho       dates\n",
      "0      SCT        5750  2024-06-30\n",
      "1      ENA       11000  2024-06-30\n",
      "2    CAIXA        7180  2024-06-30\n",
      "3      BCA        7100  2024-06-30\n",
      "4      SCT        8910  2024-05-31\n",
      "<class 'pandas.core.frame.DataFrame'>\n",
      "RangeIndex: 820 entries, 0 to 819\n",
      "Data columns (total 3 columns):\n",
      " #   Column       Non-Null Count  Dtype \n",
      "---  ------       --------------  ----- \n",
      " 0   entidade     820 non-null    object\n",
      " 1   preco_fecho  820 non-null    object\n",
      " 2   dates        820 non-null    object\n",
      "dtypes: object(3)\n",
      "memory usage: 19.3+ KB\n",
      "None\n"
     ]
    }
   ],
   "source": [
    "print(df_hist_cot.head())\n",
    "print(df_hist_cot.info())"
   ]
  },
  {
   "cell_type": "markdown",
   "metadata": {},
   "source": [
    "### Convert data types"
   ]
  },
  {
   "cell_type": "code",
   "execution_count": 3,
   "metadata": {},
   "outputs": [
    {
     "name": "stdout",
     "output_type": "stream",
     "text": [
      "<class 'pandas.core.frame.DataFrame'>\n",
      "RangeIndex: 820 entries, 0 to 819\n",
      "Data columns (total 3 columns):\n",
      " #   Column       Non-Null Count  Dtype         \n",
      "---  ------       --------------  -----         \n",
      " 0   entidade     820 non-null    object        \n",
      " 1   preco_fecho  820 non-null    float64       \n",
      " 2   dates        820 non-null    datetime64[ns]\n",
      "dtypes: datetime64[ns](1), float64(1), object(1)\n",
      "memory usage: 19.3+ KB\n",
      "None\n",
      "    entidade  preco_fecho      dates\n",
      "0        SCT       5750.0 2024-06-30\n",
      "1        ENA      11000.0 2024-06-30\n",
      "2      CAIXA       7180.0 2024-06-30\n",
      "3        BCA       7100.0 2024-06-30\n",
      "4        SCT       8910.0 2024-05-31\n",
      "..       ...          ...        ...\n",
      "815      BCA       3900.0 2006-02-08\n",
      "816      SCT       6500.0 2006-02-01\n",
      "817      BCA       4000.0 2006-01-16\n",
      "818      BCA       3500.0 2006-01-12\n",
      "819      BCA       3500.0 2005-12-21\n",
      "\n",
      "[820 rows x 3 columns]\n"
     ]
    }
   ],
   "source": [
    "df_hist_cot = df_hist_cot.astype({'preco_fecho': float})\n",
    "df_hist_cot['dates'] = pd.to_datetime(df_hist_cot['dates'])\n",
    "print(df_hist_cot.info())\n",
    "print(df_hist_cot)"
   ]
  },
  {
   "cell_type": "markdown",
   "metadata": {},
   "source": [
    "## Clean the data"
   ]
  },
  {
   "cell_type": "markdown",
   "metadata": {},
   "source": [
    "Check for duplicate dates"
   ]
  },
  {
   "cell_type": "code",
   "execution_count": 4,
   "metadata": {},
   "outputs": [
    {
     "data": {
      "text/html": [
       "<div>\n",
       "<style scoped>\n",
       "    .dataframe tbody tr th:only-of-type {\n",
       "        vertical-align: middle;\n",
       "    }\n",
       "\n",
       "    .dataframe tbody tr th {\n",
       "        vertical-align: top;\n",
       "    }\n",
       "\n",
       "    .dataframe thead th {\n",
       "        text-align: right;\n",
       "    }\n",
       "</style>\n",
       "<table border=\"1\" class=\"dataframe\">\n",
       "  <thead>\n",
       "    <tr style=\"text-align: right;\">\n",
       "      <th></th>\n",
       "      <th>entidade</th>\n",
       "      <th>preco_fecho</th>\n",
       "      <th>dates</th>\n",
       "    </tr>\n",
       "  </thead>\n",
       "  <tbody>\n",
       "    <tr>\n",
       "      <th>105</th>\n",
       "      <td>BCA</td>\n",
       "      <td>1920.0</td>\n",
       "      <td>2021-12-28</td>\n",
       "    </tr>\n",
       "    <tr>\n",
       "      <th>106</th>\n",
       "      <td>BCA</td>\n",
       "      <td>1900.0</td>\n",
       "      <td>2021-12-28</td>\n",
       "    </tr>\n",
       "    <tr>\n",
       "      <th>192</th>\n",
       "      <td>ENA</td>\n",
       "      <td>2772.0</td>\n",
       "      <td>2019-05-02</td>\n",
       "    </tr>\n",
       "    <tr>\n",
       "      <th>193</th>\n",
       "      <td>ENA</td>\n",
       "      <td>2772.0</td>\n",
       "      <td>2019-05-02</td>\n",
       "    </tr>\n",
       "  </tbody>\n",
       "</table>\n",
       "</div>"
      ],
      "text/plain": [
       "    entidade  preco_fecho      dates\n",
       "105      BCA       1920.0 2021-12-28\n",
       "106      BCA       1900.0 2021-12-28\n",
       "192      ENA       2772.0 2019-05-02\n",
       "193      ENA       2772.0 2019-05-02"
      ]
     },
     "execution_count": 4,
     "metadata": {},
     "output_type": "execute_result"
    }
   ],
   "source": [
    "#find duplicate rows across based off entidade and dates columns\n",
    "duplicateRows = df_hist_cot[df_hist_cot.duplicated(['entidade', 'dates'], keep=False)]\n",
    "duplicateRows"
   ]
  },
  {
   "cell_type": "markdown",
   "metadata": {},
   "source": [
    "ENA has 2 same preco_fecho's for the same date. This causes the preco_fecho of that day to be the sum of the duplicate values. <br>\n",
    "BCA has 2 diferent preco_fecho on same date. This causes the same issue, the preco_fecho of that day will be the sum of the duplicate values."
   ]
  },
  {
   "cell_type": "code",
   "execution_count": 5,
   "metadata": {},
   "outputs": [],
   "source": [
    "# So I will drop a an entirely duplicate row, this will solve the issue for ENA.\n",
    "\n",
    "df_hist_cot = df_hist_cot[~df_hist_cot.duplicated()]\n"
   ]
  },
  {
   "cell_type": "markdown",
   "metadata": {},
   "source": [
    "Check for duplicate rows again"
   ]
  },
  {
   "cell_type": "code",
   "execution_count": 6,
   "metadata": {},
   "outputs": [
    {
     "data": {
      "text/html": [
       "<div>\n",
       "<style scoped>\n",
       "    .dataframe tbody tr th:only-of-type {\n",
       "        vertical-align: middle;\n",
       "    }\n",
       "\n",
       "    .dataframe tbody tr th {\n",
       "        vertical-align: top;\n",
       "    }\n",
       "\n",
       "    .dataframe thead th {\n",
       "        text-align: right;\n",
       "    }\n",
       "</style>\n",
       "<table border=\"1\" class=\"dataframe\">\n",
       "  <thead>\n",
       "    <tr style=\"text-align: right;\">\n",
       "      <th></th>\n",
       "      <th>entidade</th>\n",
       "      <th>preco_fecho</th>\n",
       "      <th>dates</th>\n",
       "    </tr>\n",
       "  </thead>\n",
       "  <tbody>\n",
       "    <tr>\n",
       "      <th>105</th>\n",
       "      <td>BCA</td>\n",
       "      <td>1920.0</td>\n",
       "      <td>2021-12-28</td>\n",
       "    </tr>\n",
       "    <tr>\n",
       "      <th>106</th>\n",
       "      <td>BCA</td>\n",
       "      <td>1900.0</td>\n",
       "      <td>2021-12-28</td>\n",
       "    </tr>\n",
       "  </tbody>\n",
       "</table>\n",
       "</div>"
      ],
      "text/plain": [
       "    entidade  preco_fecho      dates\n",
       "105      BCA       1920.0 2021-12-28\n",
       "106      BCA       1900.0 2021-12-28"
      ]
     },
     "execution_count": 6,
     "metadata": {},
     "output_type": "execute_result"
    }
   ],
   "source": [
    "duplicateRows = df_hist_cot[df_hist_cot.duplicated(['entidade', 'dates'], keep=False)]\n",
    "duplicateRows"
   ]
  },
  {
   "cell_type": "markdown",
   "metadata": {},
   "source": [
    "The second row with the date of 2021-12-28 should be in fact 2021-12-29. That's obviously not right so will edit the date manualy. "
   ]
  },
  {
   "cell_type": "code",
   "execution_count": 7,
   "metadata": {},
   "outputs": [],
   "source": [
    "#df_hist_cot[df_hist_cot.duplicated(['entidade', 'dates'], keep='last')].index\n",
    "\n",
    "df_hist_cot.loc[df_hist_cot[df_hist_cot.duplicated(['entidade', 'dates'], keep='last')].index, 'dates'] = '2021-12-29'\n"
   ]
  },
  {
   "cell_type": "code",
   "execution_count": 8,
   "metadata": {},
   "outputs": [
    {
     "name": "stdout",
     "output_type": "stream",
     "text": [
      "    entidade  preco_fecho      dates\n",
      "104    CAIXA       2735.0 2021-12-29\n",
      "105      BCA       1920.0 2021-12-29\n",
      "    entidade  preco_fecho      dates\n",
      "106      BCA       1900.0 2021-12-28\n"
     ]
    }
   ],
   "source": [
    "#check if dates are good\n",
    "print(df_hist_cot[df_hist_cot['dates'] == '2021-12-29'])\n",
    "print(df_hist_cot[df_hist_cot['dates'] == '2021-12-28'])"
   ]
  },
  {
   "cell_type": "markdown",
   "metadata": {},
   "source": [
    "### Start EDA"
   ]
  },
  {
   "cell_type": "code",
   "execution_count": 9,
   "metadata": {},
   "outputs": [
    {
     "data": {
      "text/html": [
       "<div>\n",
       "<style scoped>\n",
       "    .dataframe tbody tr th:only-of-type {\n",
       "        vertical-align: middle;\n",
       "    }\n",
       "\n",
       "    .dataframe tbody tr th {\n",
       "        vertical-align: top;\n",
       "    }\n",
       "\n",
       "    .dataframe thead th {\n",
       "        text-align: right;\n",
       "    }\n",
       "</style>\n",
       "<table border=\"1\" class=\"dataframe\">\n",
       "  <thead>\n",
       "    <tr style=\"text-align: right;\">\n",
       "      <th></th>\n",
       "      <th>preco_fecho</th>\n",
       "    </tr>\n",
       "  </thead>\n",
       "  <tbody>\n",
       "    <tr>\n",
       "      <th>count</th>\n",
       "      <td>819.000000</td>\n",
       "    </tr>\n",
       "    <tr>\n",
       "      <th>mean</th>\n",
       "      <td>4379.028083</td>\n",
       "    </tr>\n",
       "    <tr>\n",
       "      <th>std</th>\n",
       "      <td>1943.385540</td>\n",
       "    </tr>\n",
       "    <tr>\n",
       "      <th>min</th>\n",
       "      <td>1428.000000</td>\n",
       "    </tr>\n",
       "    <tr>\n",
       "      <th>25%</th>\n",
       "      <td>3000.000000</td>\n",
       "    </tr>\n",
       "    <tr>\n",
       "      <th>50%</th>\n",
       "      <td>3900.000000</td>\n",
       "    </tr>\n",
       "    <tr>\n",
       "      <th>75%</th>\n",
       "      <td>6000.000000</td>\n",
       "    </tr>\n",
       "    <tr>\n",
       "      <th>max</th>\n",
       "      <td>14950.000000</td>\n",
       "    </tr>\n",
       "  </tbody>\n",
       "</table>\n",
       "</div>"
      ],
      "text/plain": [
       "        preco_fecho\n",
       "count    819.000000\n",
       "mean    4379.028083\n",
       "std     1943.385540\n",
       "min     1428.000000\n",
       "25%     3000.000000\n",
       "50%     3900.000000\n",
       "75%     6000.000000\n",
       "max    14950.000000"
      ]
     },
     "execution_count": 9,
     "metadata": {},
     "output_type": "execute_result"
    }
   ],
   "source": [
    "df_hist_cot.describe()"
   ]
  },
  {
   "cell_type": "markdown",
   "metadata": {},
   "source": [
    "### Create dataframes for each entidade"
   ]
  },
  {
   "cell_type": "code",
   "execution_count": 10,
   "metadata": {},
   "outputs": [
    {
     "name": "stdout",
     "output_type": "stream",
     "text": [
      "_________SCT_________\n",
      "        preco_fecho\n",
      "count    122.000000\n",
      "mean    5901.024590\n",
      "std     1968.417363\n",
      "min     3000.000000\n",
      "25%     4892.500000\n",
      "50%     5845.000000\n",
      "75%     6500.000000\n",
      "max    14950.000000\n",
      "_________BCA_________\n",
      "       preco_fecho\n",
      "count   280.000000\n",
      "mean   3008.946429\n",
      "std     722.306764\n",
      "min    1428.000000\n",
      "25%    2837.500000\n",
      "50%    3100.000000\n",
      "75%    3200.000000\n",
      "max    7224.000000\n",
      "_________CAIXA_________\n",
      "       preco_fecho\n",
      "count    88.000000\n",
      "mean   3215.477273\n",
      "std    1163.678571\n",
      "min    2070.000000\n",
      "25%    2497.500000\n",
      "50%    2910.000000\n",
      "75%    3225.000000\n",
      "max    7180.000000\n",
      "_________ENA_________\n",
      "        preco_fecho\n",
      "count    329.000000\n",
      "mean    5291.890578\n",
      "std     1877.065602\n",
      "min     2000.000000\n",
      "25%     4000.000000\n",
      "50%     4620.000000\n",
      "75%     6795.000000\n",
      "max    13680.000000\n"
     ]
    }
   ],
   "source": [
    "df_SCT = df_hist_cot[df_hist_cot['entidade'] == 'SCT']\n",
    "print('_________SCT_________')\n",
    "print(df_SCT.describe())\n",
    "\n",
    "df_BCA = df_hist_cot[df_hist_cot['entidade'] == 'BCA']\n",
    "print('_________BCA_________')\n",
    "print(df_BCA.describe())\n",
    "\n",
    "df_CAIXA = df_hist_cot[df_hist_cot['entidade'] == 'CAIXA']\n",
    "print('_________CAIXA_________')\n",
    "print(df_CAIXA.describe())\n",
    "\n",
    "df_ENA = df_hist_cot[df_hist_cot['entidade'] == 'ENA']\n",
    "print('_________ENA_________')\n",
    "print(df_ENA.describe())"
   ]
  },
  {
   "cell_type": "code",
   "execution_count": 11,
   "metadata": {},
   "outputs": [],
   "source": [
    "filepath = Path('data/bvc_quotes_history.csv')\n",
    "df_hist_cot.to_csv(filepath, index=False)"
   ]
  }
 ],
 "metadata": {
  "kernelspec": {
   "display_name": "Python 3.9.6 ('venv': venv)",
   "language": "python",
   "name": "python3"
  },
  "language_info": {
   "codemirror_mode": {
    "name": "ipython",
    "version": 3
   },
   "file_extension": ".py",
   "mimetype": "text/x-python",
   "name": "python",
   "nbconvert_exporter": "python",
   "pygments_lexer": "ipython3",
   "version": "3.9.6"
  },
  "orig_nbformat": 4,
  "vscode": {
   "interpreter": {
    "hash": "3ddf9c4fd8bc25b7717d3e039c619e5e55acf0bdc2158c4c3e14d4118e222fee"
   }
  }
 },
 "nbformat": 4,
 "nbformat_minor": 2
}
