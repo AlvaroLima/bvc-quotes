{
 "cells": [
  {
   "cell_type": "markdown",
   "metadata": {},
   "source": [
    "# Webscraping bvc.cv with beautifulsoup4 "
   ]
  },
  {
   "cell_type": "markdown",
   "metadata": {},
   "source": [
    "### Import libraries and make request to bvc historico de cotações page"
   ]
  },
  {
   "cell_type": "code",
   "execution_count": 31,
   "metadata": {},
   "outputs": [],
   "source": [
    "from bs4 import BeautifulSoup\n",
    "import requests\n",
    "import pandas as pd\n",
    "import plotly.express as px\n",
    "from pathlib import Path\n",
    "\n",
    "html_text = requests.get('https://bvc.cv/pagina/historico-cotacoes-bvc-62').text\n",
    "soup = BeautifulSoup(html_text, 'lxml')\n",
    "epfds = soup.find('tbody', class_= 'text-right').find_all('td')\n",
    "\n",
    "lista = []\n",
    "\n",
    "for index, epfd in enumerate(epfds):\n",
    "    lista.append(epfd.text)\n",
    "\n",
    "#Convert lista to list of lists epfd\n",
    "lista_epfd = [lista[i:i+3] for i in range(0, len(lista), 3)]\n",
    "#Convert list of list to dataframe\n",
    "df_hist_cot = pd.DataFrame(lista_epfd, columns=['entidade', 'preco_fecho', 'dates'])\n",
    "\n"
   ]
  },
  {
   "cell_type": "code",
   "execution_count": 32,
   "metadata": {},
   "outputs": [
    {
     "name": "stdout",
     "output_type": "stream",
     "text": [
      "  entidade preco_fecho       dates\n",
      "0      SCT        6500  2022-03-01\n",
      "1      SCT        6500  2022-02-25\n",
      "2      SCT        6500  2022-02-23\n",
      "3      SCT        6500  2022-02-15\n",
      "4      BCA        1900  2022-02-11\n",
      "<class 'pandas.core.frame.DataFrame'>\n",
      "RangeIndex: 729 entries, 0 to 728\n",
      "Data columns (total 3 columns):\n",
      " #   Column       Non-Null Count  Dtype \n",
      "---  ------       --------------  ----- \n",
      " 0   entidade     729 non-null    object\n",
      " 1   preco_fecho  729 non-null    object\n",
      " 2   dates        729 non-null    object\n",
      "dtypes: object(3)\n",
      "memory usage: 17.2+ KB\n",
      "None\n"
     ]
    }
   ],
   "source": [
    "print(df_hist_cot.head())\n",
    "print(df_hist_cot.info())"
   ]
  },
  {
   "cell_type": "markdown",
   "metadata": {},
   "source": [
    "### Convert dtypes"
   ]
  },
  {
   "cell_type": "code",
   "execution_count": 33,
   "metadata": {},
   "outputs": [
    {
     "name": "stdout",
     "output_type": "stream",
     "text": [
      "<class 'pandas.core.frame.DataFrame'>\n",
      "RangeIndex: 729 entries, 0 to 728\n",
      "Data columns (total 3 columns):\n",
      " #   Column       Non-Null Count  Dtype         \n",
      "---  ------       --------------  -----         \n",
      " 0   entidade     729 non-null    object        \n",
      " 1   preco_fecho  729 non-null    float64       \n",
      " 2   dates        729 non-null    datetime64[ns]\n",
      "dtypes: datetime64[ns](1), float64(1), object(1)\n",
      "memory usage: 17.2+ KB\n",
      "None\n",
      "    entidade  preco_fecho      dates\n",
      "0        SCT       6500.0 2022-03-01\n",
      "1        SCT       6500.0 2022-02-25\n",
      "2        SCT       6500.0 2022-02-23\n",
      "3        SCT       6500.0 2022-02-15\n",
      "4        BCA       1900.0 2022-02-11\n",
      "..       ...          ...        ...\n",
      "724      BCA       3900.0 2006-02-08\n",
      "725      SCT       6500.0 2006-02-01\n",
      "726      BCA       4000.0 2006-01-16\n",
      "727      BCA       3500.0 2006-01-12\n",
      "728      BCA       3500.0 2005-12-21\n",
      "\n",
      "[729 rows x 3 columns]\n"
     ]
    }
   ],
   "source": [
    "df_hist_cot = df_hist_cot.astype({'preco_fecho': float})\n",
    "df_hist_cot['dates'] = pd.to_datetime(df_hist_cot['dates'])\n",
    "print(df_hist_cot.info())\n",
    "print(df_hist_cot)"
   ]
  },
  {
   "cell_type": "markdown",
   "metadata": {},
   "source": [
    "### Start EDA"
   ]
  },
  {
   "cell_type": "code",
   "execution_count": 34,
   "metadata": {},
   "outputs": [
    {
     "data": {
      "text/html": [
       "<div>\n",
       "<style scoped>\n",
       "    .dataframe tbody tr th:only-of-type {\n",
       "        vertical-align: middle;\n",
       "    }\n",
       "\n",
       "    .dataframe tbody tr th {\n",
       "        vertical-align: top;\n",
       "    }\n",
       "\n",
       "    .dataframe thead th {\n",
       "        text-align: right;\n",
       "    }\n",
       "</style>\n",
       "<table border=\"1\" class=\"dataframe\">\n",
       "  <thead>\n",
       "    <tr style=\"text-align: right;\">\n",
       "      <th></th>\n",
       "      <th>preco_fecho</th>\n",
       "    </tr>\n",
       "  </thead>\n",
       "  <tbody>\n",
       "    <tr>\n",
       "      <th>count</th>\n",
       "      <td>729.000000</td>\n",
       "    </tr>\n",
       "    <tr>\n",
       "      <th>mean</th>\n",
       "      <td>4162.112483</td>\n",
       "    </tr>\n",
       "    <tr>\n",
       "      <th>std</th>\n",
       "      <td>1607.834290</td>\n",
       "    </tr>\n",
       "    <tr>\n",
       "      <th>min</th>\n",
       "      <td>1428.000000</td>\n",
       "    </tr>\n",
       "    <tr>\n",
       "      <th>25%</th>\n",
       "      <td>3000.000000</td>\n",
       "    </tr>\n",
       "    <tr>\n",
       "      <th>50%</th>\n",
       "      <td>3740.000000</td>\n",
       "    </tr>\n",
       "    <tr>\n",
       "      <th>75%</th>\n",
       "      <td>5500.000000</td>\n",
       "    </tr>\n",
       "    <tr>\n",
       "      <th>max</th>\n",
       "      <td>7200.000000</td>\n",
       "    </tr>\n",
       "  </tbody>\n",
       "</table>\n",
       "</div>"
      ],
      "text/plain": [
       "       preco_fecho\n",
       "count   729.000000\n",
       "mean   4162.112483\n",
       "std    1607.834290\n",
       "min    1428.000000\n",
       "25%    3000.000000\n",
       "50%    3740.000000\n",
       "75%    5500.000000\n",
       "max    7200.000000"
      ]
     },
     "execution_count": 34,
     "metadata": {},
     "output_type": "execute_result"
    }
   ],
   "source": [
    "df_hist_cot.describe()"
   ]
  },
  {
   "cell_type": "code",
   "execution_count": 35,
   "metadata": {},
   "outputs": [
    {
     "name": "stdout",
     "output_type": "stream",
     "text": [
      "['SCT' 'BCA' 'CAIXA' 'ENA']\n",
      "       preco_fecho\n",
      "count   104.000000\n",
      "mean   5388.221154\n",
      "std    1155.557680\n",
      "min    3000.000000\n",
      "25%    4890.000000\n",
      "50%    5500.000000\n",
      "75%    6500.000000\n",
      "max    7150.000000\n",
      "       preco_fecho\n",
      "count   254.000000\n",
      "mean   2941.519685\n",
      "std     576.908653\n",
      "min    1428.000000\n",
      "25%    2900.000000\n",
      "50%    3100.000000\n",
      "75%    3200.000000\n",
      "max    4000.000000\n",
      "       preco_fecho\n",
      "count    69.000000\n",
      "mean   3079.492754\n",
      "std    1181.119280\n",
      "min    2070.000000\n",
      "25%    2400.000000\n",
      "50%    2800.000000\n",
      "75%    3000.000000\n",
      "max    6500.000000\n",
      "       preco_fecho\n",
      "count   302.000000\n",
      "mean   5013.821192\n",
      "std    1558.021277\n",
      "min    2000.000000\n",
      "25%    4000.000000\n",
      "50%    4410.000000\n",
      "75%    6500.000000\n",
      "max    7200.000000\n"
     ]
    }
   ],
   "source": [
    "print(df_hist_cot.entidade.unique())\n",
    "\n",
    "df_SCT = df_hist_cot[df_hist_cot['entidade'] == 'SCT']\n",
    "print(df_SCT.describe())\n",
    "df_BCA = df_hist_cot[df_hist_cot['entidade'] == 'BCA']\n",
    "print(df_BCA.describe())\n",
    "df_CAIXA = df_hist_cot[df_hist_cot['entidade'] == 'CAIXA']\n",
    "print(df_CAIXA.describe())\n",
    "df_ENA = df_hist_cot[df_hist_cot['entidade'] == 'ENA']\n",
    "print(df_ENA.describe())"
   ]
  },
  {
   "cell_type": "markdown",
   "metadata": {},
   "source": [
    "### Start trying out plotly"
   ]
  },
  {
   "cell_type": "code",
   "execution_count": 37,
   "metadata": {},
   "outputs": [],
   "source": [
    "filepath = Path('bvc.csv')\n",
    "df_hist_cot.to_csv(filepath, index=False)"
   ]
  }
 ],
 "metadata": {
  "interpreter": {
   "hash": "0584aaca5793d6d8e617d28bdd5968298e5fd41b3be88e7910460c15a3fa11b8"
  },
  "kernelspec": {
   "display_name": "Python 3.9.7 ('base')",
   "language": "python",
   "name": "python3"
  },
  "language_info": {
   "codemirror_mode": {
    "name": "ipython",
    "version": 3
   },
   "file_extension": ".py",
   "mimetype": "text/x-python",
   "name": "python",
   "nbconvert_exporter": "python",
   "pygments_lexer": "ipython3",
   "version": "3.9.7"
  },
  "orig_nbformat": 4
 },
 "nbformat": 4,
 "nbformat_minor": 2
}
