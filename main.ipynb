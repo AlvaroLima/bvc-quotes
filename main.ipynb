{
 "cells": [
  {
   "cell_type": "markdown",
   "metadata": {},
   "source": [
    "# Webscraping bvc.cv with beautifulsoup4 "
   ]
  },
  {
   "cell_type": "markdown",
   "metadata": {},
   "source": [
    "### Import libraries and make request to bvc historico de cotações page"
   ]
  },
  {
   "cell_type": "code",
   "execution_count": 48,
   "metadata": {},
   "outputs": [],
   "source": [
    "from bs4 import BeautifulSoup\n",
    "import requests\n",
    "import pandas as pd\n",
    "import plotly.express as px\n",
    "from pathlib import Path\n",
    "\n",
    "html_text = requests.get('https://bvc.cv/pagina/historico-cotacoes-bvc-62').text\n",
    "soup = BeautifulSoup(html_text, 'lxml')\n",
    "epfds = soup.find('tbody', class_= 'text-right').find_all('td')\n",
    "\n",
    "list = []\n",
    "\n",
    "for index, epfd in enumerate(epfds):\n",
    "    list.append(epfd.text)\n",
    "\n",
    "#Convert list to list of lists (entidade, preco_fecho, dates)\n",
    "list_epfd = [list[i:i+3] for i in range(0, len(list), 3)]\n",
    "#Convert list of list to dataframe\n",
    "df_hist_cot = pd.DataFrame(list_epfd, columns=['entidade', 'preco_fecho', 'dates'])\n",
    "\n"
   ]
  },
  {
   "cell_type": "code",
   "execution_count": 49,
   "metadata": {},
   "outputs": [
    {
     "name": "stdout",
     "output_type": "stream",
     "text": [
      "  entidade preco_fecho       dates\n",
      "0      SCT        8910  2024-05-31\n",
      "1      ENA       11000  2024-05-31\n",
      "2    CAIXA        5368  2024-05-31\n",
      "3      BCA        7224  2024-05-31\n",
      "4      SCT       10480  2024-04-30\n",
      "<class 'pandas.core.frame.DataFrame'>\n",
      "RangeIndex: 816 entries, 0 to 815\n",
      "Data columns (total 3 columns):\n",
      " #   Column       Non-Null Count  Dtype \n",
      "---  ------       --------------  ----- \n",
      " 0   entidade     816 non-null    object\n",
      " 1   preco_fecho  816 non-null    object\n",
      " 2   dates        816 non-null    object\n",
      "dtypes: object(3)\n",
      "memory usage: 19.2+ KB\n",
      "None\n"
     ]
    }
   ],
   "source": [
    "print(df_hist_cot.head())\n",
    "print(df_hist_cot.info())"
   ]
  },
  {
   "cell_type": "markdown",
   "metadata": {},
   "source": [
    "### Convert data types"
   ]
  },
  {
   "cell_type": "code",
   "execution_count": 50,
   "metadata": {},
   "outputs": [
    {
     "name": "stdout",
     "output_type": "stream",
     "text": [
      "<class 'pandas.core.frame.DataFrame'>\n",
      "RangeIndex: 816 entries, 0 to 815\n",
      "Data columns (total 3 columns):\n",
      " #   Column       Non-Null Count  Dtype         \n",
      "---  ------       --------------  -----         \n",
      " 0   entidade     816 non-null    object        \n",
      " 1   preco_fecho  816 non-null    float64       \n",
      " 2   dates        816 non-null    datetime64[ns]\n",
      "dtypes: datetime64[ns](1), float64(1), object(1)\n",
      "memory usage: 19.2+ KB\n",
      "None\n",
      "    entidade  preco_fecho      dates\n",
      "0        SCT       8910.0 2024-05-31\n",
      "1        ENA      11000.0 2024-05-31\n",
      "2      CAIXA       5368.0 2024-05-31\n",
      "3        BCA       7224.0 2024-05-31\n",
      "4        SCT      10480.0 2024-04-30\n",
      "..       ...          ...        ...\n",
      "811      BCA       3900.0 2006-02-08\n",
      "812      SCT       6500.0 2006-02-01\n",
      "813      BCA       4000.0 2006-01-16\n",
      "814      BCA       3500.0 2006-01-12\n",
      "815      BCA       3500.0 2005-12-21\n",
      "\n",
      "[816 rows x 3 columns]\n"
     ]
    }
   ],
   "source": [
    "df_hist_cot = df_hist_cot.astype({'preco_fecho': float})\n",
    "df_hist_cot['dates'] = pd.to_datetime(df_hist_cot['dates'])\n",
    "print(df_hist_cot.info())\n",
    "print(df_hist_cot)"
   ]
  },
  {
   "cell_type": "markdown",
   "metadata": {},
   "source": [
    "## Clean the data"
   ]
  },
  {
   "cell_type": "markdown",
   "metadata": {},
   "source": [
    "Check for duplicate dates"
   ]
  },
  {
   "cell_type": "code",
   "execution_count": 51,
   "metadata": {},
   "outputs": [
    {
     "data": {
      "text/html": [
       "<div>\n",
       "<style scoped>\n",
       "    .dataframe tbody tr th:only-of-type {\n",
       "        vertical-align: middle;\n",
       "    }\n",
       "\n",
       "    .dataframe tbody tr th {\n",
       "        vertical-align: top;\n",
       "    }\n",
       "\n",
       "    .dataframe thead th {\n",
       "        text-align: right;\n",
       "    }\n",
       "</style>\n",
       "<table border=\"1\" class=\"dataframe\">\n",
       "  <thead>\n",
       "    <tr style=\"text-align: right;\">\n",
       "      <th></th>\n",
       "      <th>entidade</th>\n",
       "      <th>preco_fecho</th>\n",
       "      <th>dates</th>\n",
       "    </tr>\n",
       "  </thead>\n",
       "  <tbody>\n",
       "    <tr>\n",
       "      <th>101</th>\n",
       "      <td>BCA</td>\n",
       "      <td>1920.0</td>\n",
       "      <td>2021-12-28</td>\n",
       "    </tr>\n",
       "    <tr>\n",
       "      <th>102</th>\n",
       "      <td>BCA</td>\n",
       "      <td>1900.0</td>\n",
       "      <td>2021-12-28</td>\n",
       "    </tr>\n",
       "    <tr>\n",
       "      <th>188</th>\n",
       "      <td>ENA</td>\n",
       "      <td>2772.0</td>\n",
       "      <td>2019-05-02</td>\n",
       "    </tr>\n",
       "    <tr>\n",
       "      <th>189</th>\n",
       "      <td>ENA</td>\n",
       "      <td>2772.0</td>\n",
       "      <td>2019-05-02</td>\n",
       "    </tr>\n",
       "  </tbody>\n",
       "</table>\n",
       "</div>"
      ],
      "text/plain": [
       "    entidade  preco_fecho      dates\n",
       "101      BCA       1920.0 2021-12-28\n",
       "102      BCA       1900.0 2021-12-28\n",
       "188      ENA       2772.0 2019-05-02\n",
       "189      ENA       2772.0 2019-05-02"
      ]
     },
     "execution_count": 51,
     "metadata": {},
     "output_type": "execute_result"
    }
   ],
   "source": [
    "#find duplicate rows across based off entidade and dates columns\n",
    "duplicateRows = df_hist_cot[df_hist_cot.duplicated(['entidade', 'dates'], keep=False)]\n",
    "duplicateRows"
   ]
  },
  {
   "cell_type": "markdown",
   "metadata": {},
   "source": [
    "ENA has 2 same preco_fecho's for the same date. This causes the preco_fecho of that day to be the sum of the duplicate values. <br>\n",
    "BCA has 2 diferent preco_fecho on same date. This causes the same issue, the preco_fecho of that day will be the sum of the duplicate values."
   ]
  },
  {
   "cell_type": "code",
   "execution_count": 52,
   "metadata": {},
   "outputs": [],
   "source": [
    "# So I will drop a an entirely duplicate row, this will solve the issue for ENA.\n",
    "\n",
    "df_hist_cot = df_hist_cot[~df_hist_cot.duplicated()]\n"
   ]
  },
  {
   "cell_type": "markdown",
   "metadata": {},
   "source": [
    "Check for duplicate rows again"
   ]
  },
  {
   "cell_type": "code",
   "execution_count": 53,
   "metadata": {},
   "outputs": [
    {
     "data": {
      "text/html": [
       "<div>\n",
       "<style scoped>\n",
       "    .dataframe tbody tr th:only-of-type {\n",
       "        vertical-align: middle;\n",
       "    }\n",
       "\n",
       "    .dataframe tbody tr th {\n",
       "        vertical-align: top;\n",
       "    }\n",
       "\n",
       "    .dataframe thead th {\n",
       "        text-align: right;\n",
       "    }\n",
       "</style>\n",
       "<table border=\"1\" class=\"dataframe\">\n",
       "  <thead>\n",
       "    <tr style=\"text-align: right;\">\n",
       "      <th></th>\n",
       "      <th>entidade</th>\n",
       "      <th>preco_fecho</th>\n",
       "      <th>dates</th>\n",
       "    </tr>\n",
       "  </thead>\n",
       "  <tbody>\n",
       "    <tr>\n",
       "      <th>101</th>\n",
       "      <td>BCA</td>\n",
       "      <td>1920.0</td>\n",
       "      <td>2021-12-28</td>\n",
       "    </tr>\n",
       "    <tr>\n",
       "      <th>102</th>\n",
       "      <td>BCA</td>\n",
       "      <td>1900.0</td>\n",
       "      <td>2021-12-28</td>\n",
       "    </tr>\n",
       "  </tbody>\n",
       "</table>\n",
       "</div>"
      ],
      "text/plain": [
       "    entidade  preco_fecho      dates\n",
       "101      BCA       1920.0 2021-12-28\n",
       "102      BCA       1900.0 2021-12-28"
      ]
     },
     "execution_count": 53,
     "metadata": {},
     "output_type": "execute_result"
    }
   ],
   "source": [
    "duplicateRows = df_hist_cot[df_hist_cot.duplicated(['entidade', 'dates'], keep=False)]\n",
    "duplicateRows"
   ]
  },
  {
   "cell_type": "markdown",
   "metadata": {},
   "source": [
    "The second row with the date of 2021-12-28 should be in fact 2021-12-29. That's obviously not right so will edit the date manualy. "
   ]
  },
  {
   "cell_type": "code",
   "execution_count": 54,
   "metadata": {},
   "outputs": [],
   "source": [
    "#df_hist_cot[df_hist_cot.duplicated(['entidade', 'dates'], keep='last')].index\n",
    "\n",
    "df_hist_cot.loc[df_hist_cot[df_hist_cot.duplicated(['entidade', 'dates'], keep='last')].index, 'dates'] = '2021-12-29'\n"
   ]
  },
  {
   "cell_type": "code",
   "execution_count": 55,
   "metadata": {},
   "outputs": [
    {
     "name": "stdout",
     "output_type": "stream",
     "text": [
      "    entidade  preco_fecho      dates\n",
      "100    CAIXA       2735.0 2021-12-29\n",
      "101      BCA       1920.0 2021-12-29\n",
      "    entidade  preco_fecho      dates\n",
      "102      BCA       1900.0 2021-12-28\n"
     ]
    }
   ],
   "source": [
    "#check if dates are good\n",
    "print(df_hist_cot[df_hist_cot['dates'] == '2021-12-29'])\n",
    "print(df_hist_cot[df_hist_cot['dates'] == '2021-12-28'])"
   ]
  },
  {
   "cell_type": "markdown",
   "metadata": {},
   "source": [
    "### Start EDA"
   ]
  },
  {
   "cell_type": "code",
   "execution_count": 56,
   "metadata": {},
   "outputs": [
    {
     "data": {
      "text/html": [
       "<div>\n",
       "<style scoped>\n",
       "    .dataframe tbody tr th:only-of-type {\n",
       "        vertical-align: middle;\n",
       "    }\n",
       "\n",
       "    .dataframe tbody tr th {\n",
       "        vertical-align: top;\n",
       "    }\n",
       "\n",
       "    .dataframe thead th {\n",
       "        text-align: right;\n",
       "    }\n",
       "</style>\n",
       "<table border=\"1\" class=\"dataframe\">\n",
       "  <thead>\n",
       "    <tr style=\"text-align: right;\">\n",
       "      <th></th>\n",
       "      <th>preco_fecho</th>\n",
       "    </tr>\n",
       "  </thead>\n",
       "  <tbody>\n",
       "    <tr>\n",
       "      <th>count</th>\n",
       "      <td>815.000000</td>\n",
       "    </tr>\n",
       "    <tr>\n",
       "      <th>mean</th>\n",
       "      <td>4362.446626</td>\n",
       "    </tr>\n",
       "    <tr>\n",
       "      <th>std</th>\n",
       "      <td>1928.764959</td>\n",
       "    </tr>\n",
       "    <tr>\n",
       "      <th>min</th>\n",
       "      <td>1428.000000</td>\n",
       "    </tr>\n",
       "    <tr>\n",
       "      <th>25%</th>\n",
       "      <td>3000.000000</td>\n",
       "    </tr>\n",
       "    <tr>\n",
       "      <th>50%</th>\n",
       "      <td>3900.000000</td>\n",
       "    </tr>\n",
       "    <tr>\n",
       "      <th>75%</th>\n",
       "      <td>6000.000000</td>\n",
       "    </tr>\n",
       "    <tr>\n",
       "      <th>max</th>\n",
       "      <td>14950.000000</td>\n",
       "    </tr>\n",
       "  </tbody>\n",
       "</table>\n",
       "</div>"
      ],
      "text/plain": [
       "        preco_fecho\n",
       "count    815.000000\n",
       "mean    4362.446626\n",
       "std     1928.764959\n",
       "min     1428.000000\n",
       "25%     3000.000000\n",
       "50%     3900.000000\n",
       "75%     6000.000000\n",
       "max    14950.000000"
      ]
     },
     "execution_count": 56,
     "metadata": {},
     "output_type": "execute_result"
    }
   ],
   "source": [
    "df_hist_cot.describe()"
   ]
  },
  {
   "cell_type": "markdown",
   "metadata": {},
   "source": [
    "### Create dataframes for each entidade"
   ]
  },
  {
   "cell_type": "code",
   "execution_count": 57,
   "metadata": {},
   "outputs": [
    {
     "name": "stdout",
     "output_type": "stream",
     "text": [
      "_________SCT_________\n",
      "        preco_fecho\n",
      "count    121.000000\n",
      "mean    5902.272727\n",
      "std     1976.553608\n",
      "min     3000.000000\n",
      "25%     4890.000000\n",
      "50%     5850.000000\n",
      "75%     6500.000000\n",
      "max    14950.000000\n",
      "_________BCA_________\n",
      "       preco_fecho\n",
      "count   279.000000\n",
      "mean   2994.283154\n",
      "std     680.576202\n",
      "min    1428.000000\n",
      "25%    2825.000000\n",
      "50%    3100.000000\n",
      "75%    3200.000000\n",
      "max    7224.000000\n",
      "_________CAIXA_________\n",
      "       preco_fecho\n",
      "count    87.000000\n",
      "mean   3169.908046\n",
      "std    1088.591790\n",
      "min    2070.000000\n",
      "25%    2495.000000\n",
      "50%    2910.000000\n",
      "75%    3225.000000\n",
      "max    6500.000000\n",
      "_________ENA_________\n",
      "        preco_fecho\n",
      "count    328.000000\n",
      "mean    5274.487805\n",
      "std     1853.160982\n",
      "min     2000.000000\n",
      "25%     4000.000000\n",
      "50%     4615.000000\n",
      "75%     6741.750000\n",
      "max    13680.000000\n"
     ]
    }
   ],
   "source": [
    "df_SCT = df_hist_cot[df_hist_cot['entidade'] == 'SCT']\n",
    "print('_________SCT_________')\n",
    "print(df_SCT.describe())\n",
    "\n",
    "df_BCA = df_hist_cot[df_hist_cot['entidade'] == 'BCA']\n",
    "print('_________BCA_________')\n",
    "print(df_BCA.describe())\n",
    "\n",
    "df_CAIXA = df_hist_cot[df_hist_cot['entidade'] == 'CAIXA']\n",
    "print('_________CAIXA_________')\n",
    "print(df_CAIXA.describe())\n",
    "\n",
    "df_ENA = df_hist_cot[df_hist_cot['entidade'] == 'ENA']\n",
    "print('_________ENA_________')\n",
    "print(df_ENA.describe())"
   ]
  },
  {
   "cell_type": "code",
   "execution_count": 58,
   "metadata": {},
   "outputs": [],
   "source": [
    "filepath = Path('data/bvc_quotes_history.csv')\n",
    "df_hist_cot.to_csv(filepath, index=False)"
   ]
  }
 ],
 "metadata": {
  "kernelspec": {
   "display_name": "Python 3.9.6 ('venv': venv)",
   "language": "python",
   "name": "python3"
  },
  "language_info": {
   "codemirror_mode": {
    "name": "ipython",
    "version": 3
   },
   "file_extension": ".py",
   "mimetype": "text/x-python",
   "name": "python",
   "nbconvert_exporter": "python",
   "pygments_lexer": "ipython3",
   "version": "3.9.6"
  },
  "orig_nbformat": 4,
  "vscode": {
   "interpreter": {
    "hash": "3ddf9c4fd8bc25b7717d3e039c619e5e55acf0bdc2158c4c3e14d4118e222fee"
   }
  }
 },
 "nbformat": 4,
 "nbformat_minor": 2
}
